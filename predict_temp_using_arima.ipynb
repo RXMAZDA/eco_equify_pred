{
 "cells": [
  {
   "cell_type": "code",
   "execution_count": 1,
   "id": "42c33e50-b959-499b-bb6d-1a242287faed",
   "metadata": {},
   "outputs": [
    {
     "name": "stdout",
     "output_type": "stream",
     "text": [
      "Collecting pmdarima\n",
      "  Downloading pmdarima-2.0.4-cp311-cp311-win_amd64.whl.metadata (8.0 kB)\n",
      "Requirement already satisfied: joblib>=0.11 in d:\\new folder\\lib\\site-packages (from pmdarima) (1.2.0)\n",
      "Collecting Cython!=0.29.18,!=0.29.31,>=0.29 (from pmdarima)\n",
      "  Downloading Cython-3.0.10-cp311-cp311-win_amd64.whl.metadata (3.2 kB)\n",
      "Requirement already satisfied: numpy>=1.21.2 in d:\\new folder\\lib\\site-packages (from pmdarima) (1.26.4)\n",
      "Requirement already satisfied: pandas>=0.19 in d:\\new folder\\lib\\site-packages (from pmdarima) (2.1.4)\n",
      "Requirement already satisfied: scikit-learn>=0.22 in d:\\new folder\\lib\\site-packages (from pmdarima) (1.2.2)\n",
      "Requirement already satisfied: scipy>=1.3.2 in d:\\new folder\\lib\\site-packages (from pmdarima) (1.11.4)\n",
      "Requirement already satisfied: statsmodels>=0.13.2 in d:\\new folder\\lib\\site-packages (from pmdarima) (0.14.2)\n",
      "Requirement already satisfied: urllib3 in d:\\new folder\\lib\\site-packages (from pmdarima) (2.0.7)\n",
      "Requirement already satisfied: setuptools!=50.0.0,>=38.6.0 in d:\\new folder\\lib\\site-packages (from pmdarima) (68.2.2)\n",
      "Requirement already satisfied: packaging>=17.1 in d:\\new folder\\lib\\site-packages (from pmdarima) (23.1)\n",
      "Requirement already satisfied: python-dateutil>=2.8.2 in d:\\new folder\\lib\\site-packages (from pandas>=0.19->pmdarima) (2.8.2)\n",
      "Requirement already satisfied: pytz>=2020.1 in d:\\new folder\\lib\\site-packages (from pandas>=0.19->pmdarima) (2023.3.post1)\n",
      "Requirement already satisfied: tzdata>=2022.1 in d:\\new folder\\lib\\site-packages (from pandas>=0.19->pmdarima) (2023.3)\n",
      "Requirement already satisfied: threadpoolctl>=2.0.0 in d:\\new folder\\lib\\site-packages (from scikit-learn>=0.22->pmdarima) (2.2.0)\n",
      "Requirement already satisfied: patsy>=0.5.6 in d:\\new folder\\lib\\site-packages (from statsmodels>=0.13.2->pmdarima) (0.5.6)\n",
      "Requirement already satisfied: six in d:\\new folder\\lib\\site-packages (from patsy>=0.5.6->statsmodels>=0.13.2->pmdarima) (1.16.0)\n",
      "Downloading pmdarima-2.0.4-cp311-cp311-win_amd64.whl (614 kB)\n",
      "   ---------------------------------------- 0.0/614.7 kB ? eta -:--:--\n",
      "    --------------------------------------- 10.2/614.7 kB ? eta -:--:--\n",
      "    --------------------------------------- 10.2/614.7 kB ? eta -:--:--\n",
      "   -- ------------------------------------ 41.0/614.7 kB 330.3 kB/s eta 0:00:02\n",
      "   ------------- -------------------------- 204.8/614.7 kB 1.2 MB/s eta 0:00:01\n",
      "   ---------------------------------------  614.4/614.7 kB 3.0 MB/s eta 0:00:01\n",
      "   ---------------------------------------- 614.7/614.7 kB 2.8 MB/s eta 0:00:00\n",
      "Downloading Cython-3.0.10-cp311-cp311-win_amd64.whl (2.8 MB)\n",
      "   ---------------------------------------- 0.0/2.8 MB ? eta -:--:--\n",
      "   ------------------- -------------------- 1.4/2.8 MB 28.5 MB/s eta 0:00:01\n",
      "   ------------------------------------- -- 2.6/2.8 MB 28.2 MB/s eta 0:00:01\n",
      "   ---------------------------------------- 2.8/2.8 MB 25.5 MB/s eta 0:00:00\n",
      "Installing collected packages: Cython, pmdarima\n",
      "Successfully installed Cython-3.0.10 pmdarima-2.0.4\n",
      "Note: you may need to restart the kernel to use updated packages.\n"
     ]
    }
   ],
   "source": [
    "pip install pmdarima"
   ]
  },
  {
   "cell_type": "code",
   "execution_count": 1,
   "id": "ed6ed127-ec6b-470f-8b16-24ae0d41916e",
   "metadata": {},
   "outputs": [],
   "source": [
    "import pandas as pd\n",
    "import numpy as np\n"
   ]
  },
  {
   "cell_type": "code",
   "execution_count": 2,
   "id": "8d5ea187-fc40-4e53-9c12-7f2cf6276d4d",
   "metadata": {},
   "outputs": [
    {
     "name": "stdout",
     "output_type": "stream",
     "text": [
      "Shape of data (12607, 1)\n"
     ]
    },
    {
     "data": {
      "text/html": [
       "<div>\n",
       "<style scoped>\n",
       "    .dataframe tbody tr th:only-of-type {\n",
       "        vertical-align: middle;\n",
       "    }\n",
       "\n",
       "    .dataframe tbody tr th {\n",
       "        vertical-align: top;\n",
       "    }\n",
       "\n",
       "    .dataframe thead th {\n",
       "        text-align: right;\n",
       "    }\n",
       "</style>\n",
       "<table border=\"1\" class=\"dataframe\">\n",
       "  <thead>\n",
       "    <tr style=\"text-align: right;\">\n",
       "      <th></th>\n",
       "      <th>temp</th>\n",
       "    </tr>\n",
       "    <tr>\n",
       "      <th>date</th>\n",
       "      <th></th>\n",
       "    </tr>\n",
       "  </thead>\n",
       "  <tbody>\n",
       "    <tr>\n",
       "      <th>1990-01-01</th>\n",
       "      <td>23.730</td>\n",
       "    </tr>\n",
       "    <tr>\n",
       "      <th>1990-01-02</th>\n",
       "      <td>23.505</td>\n",
       "    </tr>\n",
       "    <tr>\n",
       "      <th>1990-01-03</th>\n",
       "      <td>22.960</td>\n",
       "    </tr>\n",
       "    <tr>\n",
       "      <th>1990-01-04</th>\n",
       "      <td>22.190</td>\n",
       "    </tr>\n",
       "    <tr>\n",
       "      <th>1990-01-05</th>\n",
       "      <td>19.820</td>\n",
       "    </tr>\n",
       "  </tbody>\n",
       "</table>\n",
       "</div>"
      ],
      "text/plain": [
       "              temp\n",
       "date              \n",
       "1990-01-01  23.730\n",
       "1990-01-02  23.505\n",
       "1990-01-03  22.960\n",
       "1990-01-04  22.190\n",
       "1990-01-05  19.820"
      ]
     },
     "execution_count": 2,
     "metadata": {},
     "output_type": "execute_result"
    }
   ],
   "source": [
    "df = pd.read_csv('tempdata.csv' ,index_col='date',parse_dates = True)\n",
    "df =df.dropna()\n",
    "print('Shape of data',df.shape)\n",
    "df.head()"
   ]
  },
  {
   "cell_type": "code",
   "execution_count": 3,
   "id": "60fb3ee7-638d-47f7-88ea-f757ce6a48ca",
   "metadata": {},
   "outputs": [
    {
     "data": {
      "text/plain": [
       "<Axes: xlabel='date'>"
      ]
     },
     "execution_count": 3,
     "metadata": {},
     "output_type": "execute_result"
    },
    {
     "data": {
      "image/png": "[encoded data removed]",
      "text/plain": [
       "<Figure size 800x300 with 1 Axes>"
      ]
     },
     "metadata": {},
     "output_type": "display_data"
    }
   ],
   "source": [
    "df['temp'].plot(figsize = (8,3))"
   ]
  },
  {
   "cell_type": "code",
   "execution_count": 46,
   "id": "07747ecb-8797-435f-8703-086fe0f90b89",
   "metadata": {},
   "outputs": [],
   "source": [
    "from statsmodels.tsa.stattools import adfuller\n",
    "\n",
    "def ad_test(dataset):\n",
    "    dftest = adfuller(df['temp'], autolag='AIC')\n",
    "\n",
    "    print('\\n 1.ADF:\\n',dftest[0])\n",
    "    print('\\n 2.P-value:\\n',dftest[1])\n",
    "    print('\\n 3.Num of lags\\n',dftest[2])\n",
    "    print(\"\\n 4.Number of observation used for ADF Regression and Critical Values Calculation:\\n\",dftest[3])\n",
    "    print(\"\\n 5.Critical Values:\")\n",
    "    for key,val in dftest[4].items():\n",
    "        print(\"\\t\",key, \":\", val)"
   ]
  },
  {
   "cell_type": "code",
   "execution_count": 47,
   "id": "02c269a4-134a-4350-8dbe-441653e81fbe",
   "metadata": {},
   "outputs": [
    {
     "name": "stdout",
     "output_type": "stream",
     "text": [
      "\n",
      " 1.ADF:\n",
      " -10.444399370631475\n",
      "\n",
      " 2.P-value:\n",
      " 1.4931118532660429e-18\n",
      "\n",
      " 3.Num of lags\n",
      " 41\n",
      "\n",
      " 4.Number of observation used for ADF Regression and Critical Values Calculation:\n",
      " 12565\n",
      "\n",
      " 5.Critical Values:\n",
      "\t 1% : -3.430870544085656\n",
      "\t 5% : -2.8617700546933054\n",
      "\t 10% : -2.566892453128333\n"
     ]
    }
   ],
   "source": [
    "ad_test(df['temp'])"
   ]
  },
  {
   "cell_type": "code",
   "execution_count": 48,
   "id": "c27b0043-76c9-4236-a1c6-6e87233d67d3",
   "metadata": {},
   "outputs": [],
   "source": [
    "from pmdarima import auto_arima\n",
    "#ignore harmless warnings\n",
    "import warnings\n",
    "warnings.filterwarnings(\"ignore\")"
   ]
  },
  {
   "cell_type": "code",
   "execution_count": 49,
   "id": "4c8af1fb-ebc0-4a84-b505-72f04b813173",
   "metadata": {},
   "outputs": [
    {
     "name": "stdout",
     "output_type": "stream",
     "text": [
      "Performing stepwise search to minimize aic\n",
      " ARIMA(2,1,2)(0,0,0)[0] intercept   : AIC=inf, Time=14.20 sec\n",
      " ARIMA(0,1,0)(0,0,0)[0] intercept   : AIC=32224.570, Time=2.23 sec\n",
      " ARIMA(1,1,0)(0,0,0)[0] intercept   : AIC=31895.723, Time=1.53 sec\n",
      " ARIMA(0,1,1)(0,0,0)[0] intercept   : AIC=31771.063, Time=2.58 sec\n",
      " ARIMA(0,1,0)(0,0,0)[0]             : AIC=32222.570, Time=0.35 sec\n",
      " ARIMA(1,1,1)(0,0,0)[0] intercept   : AIC=31207.241, Time=7.86 sec\n",
      " ARIMA(2,1,1)(0,0,0)[0] intercept   : AIC=31208.135, Time=10.41 sec\n",
      " ARIMA(1,1,2)(0,0,0)[0] intercept   : AIC=31208.186, Time=10.10 sec\n",
      " ARIMA(0,1,2)(0,0,0)[0] intercept   : AIC=31459.621, Time=3.54 sec\n",
      " ARIMA(2,1,0)(0,0,0)[0] intercept   : AIC=31687.555, Time=2.35 sec\n",
      " ARIMA(1,1,1)(0,0,0)[0]             : AIC=31205.242, Time=1.67 sec\n",
      " ARIMA(0,1,1)(0,0,0)[0]             : AIC=31769.063, Time=0.78 sec\n",
      " ARIMA(1,1,0)(0,0,0)[0]             : AIC=31893.723, Time=0.52 sec\n",
      " ARIMA(2,1,1)(0,0,0)[0]             : AIC=31206.136, Time=2.36 sec\n",
      " ARIMA(1,1,2)(0,0,0)[0]             : AIC=31206.186, Time=2.28 sec\n",
      " ARIMA(0,1,2)(0,0,0)[0]             : AIC=31457.621, Time=1.20 sec\n",
      " ARIMA(2,1,0)(0,0,0)[0]             : AIC=31685.555, Time=0.79 sec\n",
      " ARIMA(2,1,2)(0,0,0)[0]             : AIC=inf, Time=4.05 sec\n",
      "\n",
      "Best model:  ARIMA(1,1,1)(0,0,0)[0]          \n",
      "Total fit time: 68.822 seconds\n"
     ]
    },
    {
     "data": {
      "text/html": [
       "<table class=\"simpletable\">\n",
       "<caption>SARIMAX Results</caption>\n",
       "<tr>\n",
       "  <th>Dep. Variable:</th>           <td>y</td>        <th>  No. Observations:  </th>    <td>12607</td>  \n",
       "</tr>\n",
       "<tr>\n",
       "  <th>Model:</th>           <td>SARIMAX(1, 1, 1)</td> <th>  Log Likelihood     </th> <td>-15599.621</td>\n",
       "</tr>\n",
       "<tr>\n",
       "  <th>Date:</th>            <td>Thu, 11 Jul 2024</td> <th>  AIC                </th>  <td>31205.242</td>\n",
       "</tr>\n",
       "<tr>\n",
       "  <th>Time:</th>                <td>01:25:57</td>     <th>  BIC                </th>  <td>31227.567</td>\n",
       "</tr>\n",
       "<tr>\n",
       "  <th>Sample:</th>             <td>01-01-1990</td>    <th>  HQIC               </th>  <td>31212.713</td>\n",
       "</tr>\n",
       "<tr>\n",
       "  <th></th>                   <td>- 07-07-2024</td>   <th>                     </th>      <td> </td>    \n",
       "</tr>\n",
       "<tr>\n",
       "  <th>Covariance Type:</th>        <td>opg</td>       <th>                     </th>      <td> </td>    \n",
       "</tr>\n",
       "</table>\n",
       "<table class=\"simpletable\">\n",
       "<tr>\n",
       "     <td></td>       <th>coef</th>     <th>std err</th>      <th>z</th>      <th>P>|z|</th>  <th>[0.025</th>    <th>0.975]</th>  \n",
       "</tr>\n",
       "<tr>\n",
       "  <th>ar.L1</th>  <td>    0.6016</td> <td>    0.014</td> <td>   42.742</td> <td> 0.000</td> <td>    0.574</td> <td>    0.629</td>\n",
       "</tr>\n",
       "<tr>\n",
       "  <th>ma.L1</th>  <td>   -0.8337</td> <td>    0.010</td> <td>  -82.576</td> <td> 0.000</td> <td>   -0.854</td> <td>   -0.814</td>\n",
       "</tr>\n",
       "<tr>\n",
       "  <th>sigma2</th> <td>    0.6956</td> <td>    0.007</td> <td>  103.343</td> <td> 0.000</td> <td>    0.682</td> <td>    0.709</td>\n",
       "</tr>\n",
       "</table>\n",
       "<table class=\"simpletable\">\n",
       "<tr>\n",
       "  <th>Ljung-Box (L1) (Q):</th>     <td>0.30</td> <th>  Jarque-Bera (JB):  </th> <td>1397.16</td>\n",
       "</tr>\n",
       "<tr>\n",
       "  <th>Prob(Q):</th>                <td>0.58</td> <th>  Prob(JB):          </th>  <td>0.00</td>  \n",
       "</tr>\n",
       "<tr>\n",
       "  <th>Heteroskedasticity (H):</th> <td>1.03</td> <th>  Skew:              </th>  <td>-0.42</td> \n",
       "</tr>\n",
       "<tr>\n",
       "  <th>Prob(H) (two-sided):</th>    <td>0.40</td> <th>  Kurtosis:          </th>  <td>4.40</td>  \n",
       "</tr>\n",
       "</table><br/><br/>Warnings:<br/>[1] Covariance matrix calculated using the outer product of gradients (complex-step)."
      ],
      "text/latex": [
       "\\begin{center}\n",
       "\\begin{tabular}{lclc}\n",
       "\\toprule\n",
       "\\textbf{Dep. Variable:}          &        y         & \\textbf{  No. Observations:  } &   12607     \\\\\n",
       "\\textbf{Model:}                  & SARIMAX(1, 1, 1) & \\textbf{  Log Likelihood     } & -15599.621  \\\\\n",
       "\\textbf{Date:}                   & Thu, 11 Jul 2024 & \\textbf{  AIC                } & 31205.242   \\\\\n",
       "\\textbf{Time:}                   &     01:25:57     & \\textbf{  BIC                } & 31227.567   \\\\\n",
       "\\textbf{Sample:}                 &    01-01-1990    & \\textbf{  HQIC               } & 31212.713   \\\\\n",
       "\\textbf{}                        &   - 07-07-2024   & \\textbf{                     } &             \\\\\n",
       "\\textbf{Covariance Type:}        &       opg        & \\textbf{                     } &             \\\\\n",
       "\\bottomrule\n",
       "\\end{tabular}\n",
       "\\begin{tabular}{lcccccc}\n",
       "                & \\textbf{coef} & \\textbf{std err} & \\textbf{z} & \\textbf{P$> |$z$|$} & \\textbf{[0.025} & \\textbf{0.975]}  \\\\\n",
       "\\midrule\n",
       "\\textbf{ar.L1}  &       0.6016  &        0.014     &    42.742  &         0.000        &        0.574    &        0.629     \\\\\n",
       "\\textbf{ma.L1}  &      -0.8337  &        0.010     &   -82.576  &         0.000        &       -0.854    &       -0.814     \\\\\n",
       "\\textbf{sigma2} &       0.6956  &        0.007     &   103.343  &         0.000        &        0.682    &        0.709     \\\\\n",
       "\\bottomrule\n",
       "\\end{tabular}\n",
       "\\begin{tabular}{lclc}\n",
       "\\textbf{Ljung-Box (L1) (Q):}     & 0.30 & \\textbf{  Jarque-Bera (JB):  } & 1397.16  \\\\\n",
       "\\textbf{Prob(Q):}                & 0.58 & \\textbf{  Prob(JB):          } &   0.00   \\\\\n",
       "\\textbf{Heteroskedasticity (H):} & 1.03 & \\textbf{  Skew:              } &  -0.42   \\\\\n",
       "\\textbf{Prob(H) (two-sided):}    & 0.40 & \\textbf{  Kurtosis:          } &   4.40   \\\\\n",
       "\\bottomrule\n",
       "\\end{tabular}\n",
       "%\\caption{SARIMAX Results}\n",
       "\\end{center}\n",
       "\n",
       "Warnings: \\newline\n",
       " [1] Covariance matrix calculated using the outer product of gradients (complex-step)."
      ],
      "text/plain": [
       "<class 'statsmodels.iolib.summary.Summary'>\n",
       "\"\"\"\n",
       "                               SARIMAX Results                                \n",
       "==============================================================================\n",
       "Dep. Variable:                      y   No. Observations:                12607\n",
       "Model:               SARIMAX(1, 1, 1)   Log Likelihood              -15599.621\n",
       "Date:                Thu, 11 Jul 2024   AIC                          31205.242\n",
       "Time:                        01:25:57   BIC                          31227.567\n",
       "Sample:                    01-01-1990   HQIC                         31212.713\n",
       "                         - 07-07-2024                                         \n",
       "Covariance Type:                  opg                                         \n",
       "==============================================================================\n",
       "                 coef    std err          z      P>|z|      [0.025      0.975]\n",
       "------------------------------------------------------------------------------\n",
       "ar.L1          0.6016      0.014     42.742      0.000       0.574       0.629\n",
       "ma.L1         -0.8337      0.010    -82.576      0.000      -0.854      -0.814\n",
       "sigma2         0.6956      0.007    103.343      0.000       0.682       0.709\n",
       "===================================================================================\n",
       "Ljung-Box (L1) (Q):                   0.30   Jarque-Bera (JB):              1397.16\n",
       "Prob(Q):                              0.58   Prob(JB):                         0.00\n",
       "Heteroskedasticity (H):               1.03   Skew:                            -0.42\n",
       "Prob(H) (two-sided):                  0.40   Kurtosis:                         4.40\n",
       "===================================================================================\n",
       "\n",
       "Warnings:\n",
       "[1] Covariance matrix calculated using the outer product of gradients (complex-step).\n",
       "\"\"\""
      ]
     },
     "execution_count": 49,
     "metadata": {},
     "output_type": "execute_result"
    }
   ],
   "source": [
    "stepwise_fit = auto_arima(df['temp'], trace = True,suppress_warnings = True)\n",
    "stepwise_fit.summary()"
   ]
  },
  {
   "cell_type": "code",
   "execution_count": 60,
   "id": "87e01c21-4e72-4902-be35-33eddadd1593",
   "metadata": {},
   "outputs": [],
   "source": [
    "from statsmodels.tsa.arima.model import ARIMA"
   ]
  },
  {
   "cell_type": "code",
   "execution_count": 61,
   "id": "3f3f2fb6-784c-40a4-90c2-b3f66d012345",
   "metadata": {},
   "outputs": [
    {
     "data": {
      "text/plain": [
       "12607"
      ]
     },
     "execution_count": 61,
     "metadata": {},
     "output_type": "execute_result"
    }
   ],
   "source": [
    "len(df)"
   ]
  },
  {
   "cell_type": "code",
   "execution_count": 75,
   "id": "53bf07ca-a7e1-4a1e-93b2-35f2ee5650a8",
   "metadata": {},
   "outputs": [
    {
     "name": "stdout",
     "output_type": "stream",
     "text": [
      "(12607, 1)\n",
      "(10086, 1) (2521, 1)\n"
     ]
    }
   ],
   "source": [
    "print(df.shape)\n",
    "#training set shoul have 80% of len(df) and remaining 20% for test\n",
    "train = df.iloc[:10086]\n",
    "test =df.iloc[10086:]\n",
    "print(train.shape,test.shape)"
   ]
  },
  {
   "cell_type": "code",
   "execution_count": 76,
   "id": "ab6cdc0d-c35d-4c66-8726-535410ade6bd",
   "metadata": {},
   "outputs": [
    {
     "data": {
      "text/html": [
       "<table class=\"simpletable\">\n",
       "<caption>SARIMAX Results</caption>\n",
       "<tr>\n",
       "  <th>Dep. Variable:</th>         <td>temp</td>       <th>  No. Observations:  </th>    <td>10086</td>  \n",
       "</tr>\n",
       "<tr>\n",
       "  <th>Model:</th>            <td>ARIMA(1, 1, 1)</td>  <th>  Log Likelihood     </th> <td>-12510.891</td>\n",
       "</tr>\n",
       "<tr>\n",
       "  <th>Date:</th>            <td>Thu, 11 Jul 2024</td> <th>  AIC                </th>  <td>25027.782</td>\n",
       "</tr>\n",
       "<tr>\n",
       "  <th>Time:</th>                <td>01:44:05</td>     <th>  BIC                </th>  <td>25049.438</td>\n",
       "</tr>\n",
       "<tr>\n",
       "  <th>Sample:</th>             <td>01-01-1990</td>    <th>  HQIC               </th>  <td>25035.109</td>\n",
       "</tr>\n",
       "<tr>\n",
       "  <th></th>                   <td>- 08-12-2017</td>   <th>                     </th>      <td> </td>    \n",
       "</tr>\n",
       "<tr>\n",
       "  <th>Covariance Type:</th>        <td>opg</td>       <th>                     </th>      <td> </td>    \n",
       "</tr>\n",
       "</table>\n",
       "<table class=\"simpletable\">\n",
       "<tr>\n",
       "     <td></td>       <th>coef</th>     <th>std err</th>      <th>z</th>      <th>P>|z|</th>  <th>[0.025</th>    <th>0.975]</th>  \n",
       "</tr>\n",
       "<tr>\n",
       "  <th>ar.L1</th>  <td>    0.6172</td> <td>    0.016</td> <td>   38.264</td> <td> 0.000</td> <td>    0.586</td> <td>    0.649</td>\n",
       "</tr>\n",
       "<tr>\n",
       "  <th>ma.L1</th>  <td>   -0.8374</td> <td>    0.012</td> <td>  -72.109</td> <td> 0.000</td> <td>   -0.860</td> <td>   -0.815</td>\n",
       "</tr>\n",
       "<tr>\n",
       "  <th>sigma2</th> <td>    0.6999</td> <td>    0.008</td> <td>   91.675</td> <td> 0.000</td> <td>    0.685</td> <td>    0.715</td>\n",
       "</tr>\n",
       "</table>\n",
       "<table class=\"simpletable\">\n",
       "<tr>\n",
       "  <th>Ljung-Box (L1) (Q):</th>     <td>0.45</td> <th>  Jarque-Bera (JB):  </th> <td>1035.55</td>\n",
       "</tr>\n",
       "<tr>\n",
       "  <th>Prob(Q):</th>                <td>0.50</td> <th>  Prob(JB):          </th>  <td>0.00</td>  \n",
       "</tr>\n",
       "<tr>\n",
       "  <th>Heteroskedasticity (H):</th> <td>1.07</td> <th>  Skew:              </th>  <td>-0.40</td> \n",
       "</tr>\n",
       "<tr>\n",
       "  <th>Prob(H) (two-sided):</th>    <td>0.06</td> <th>  Kurtosis:          </th>  <td>4.35</td>  \n",
       "</tr>\n",
       "</table><br/><br/>Warnings:<br/>[1] Covariance matrix calculated using the outer product of gradients (complex-step)."
      ],
      "text/latex": [
       "\\begin{center}\n",
       "\\begin{tabular}{lclc}\n",
       "\\toprule\n",
       "\\textbf{Dep. Variable:}          &       temp       & \\textbf{  No. Observations:  } &   10086     \\\\\n",
       "\\textbf{Model:}                  &  ARIMA(1, 1, 1)  & \\textbf{  Log Likelihood     } & -12510.891  \\\\\n",
       "\\textbf{Date:}                   & Thu, 11 Jul 2024 & \\textbf{  AIC                } & 25027.782   \\\\\n",
       "\\textbf{Time:}                   &     01:44:05     & \\textbf{  BIC                } & 25049.438   \\\\\n",
       "\\textbf{Sample:}                 &    01-01-1990    & \\textbf{  HQIC               } & 25035.109   \\\\\n",
       "\\textbf{}                        &   - 08-12-2017   & \\textbf{                     } &             \\\\\n",
       "\\textbf{Covariance Type:}        &       opg        & \\textbf{                     } &             \\\\\n",
       "\\bottomrule\n",
       "\\end{tabular}\n",
       "\\begin{tabular}{lcccccc}\n",
       "                & \\textbf{coef} & \\textbf{std err} & \\textbf{z} & \\textbf{P$> |$z$|$} & \\textbf{[0.025} & \\textbf{0.975]}  \\\\\n",
       "\\midrule\n",
       "\\textbf{ar.L1}  &       0.6172  &        0.016     &    38.264  &         0.000        &        0.586    &        0.649     \\\\\n",
       "\\textbf{ma.L1}  &      -0.8374  &        0.012     &   -72.109  &         0.000        &       -0.860    &       -0.815     \\\\\n",
       "\\textbf{sigma2} &       0.6999  &        0.008     &    91.675  &         0.000        &        0.685    &        0.715     \\\\\n",
       "\\bottomrule\n",
       "\\end{tabular}\n",
       "\\begin{tabular}{lclc}\n",
       "\\textbf{Ljung-Box (L1) (Q):}     & 0.45 & \\textbf{  Jarque-Bera (JB):  } & 1035.55  \\\\\n",
       "\\textbf{Prob(Q):}                & 0.50 & \\textbf{  Prob(JB):          } &   0.00   \\\\\n",
       "\\textbf{Heteroskedasticity (H):} & 1.07 & \\textbf{  Skew:              } &  -0.40   \\\\\n",
       "\\textbf{Prob(H) (two-sided):}    & 0.06 & \\textbf{  Kurtosis:          } &   4.35   \\\\\n",
       "\\bottomrule\n",
       "\\end{tabular}\n",
       "%\\caption{SARIMAX Results}\n",
       "\\end{center}\n",
       "\n",
       "Warnings: \\newline\n",
       " [1] Covariance matrix calculated using the outer product of gradients (complex-step)."
      ],
      "text/plain": [
       "<class 'statsmodels.iolib.summary.Summary'>\n",
       "\"\"\"\n",
       "                               SARIMAX Results                                \n",
       "==============================================================================\n",
       "Dep. Variable:                   temp   No. Observations:                10086\n",
       "Model:                 ARIMA(1, 1, 1)   Log Likelihood              -12510.891\n",
       "Date:                Thu, 11 Jul 2024   AIC                          25027.782\n",
       "Time:                        01:44:05   BIC                          25049.438\n",
       "Sample:                    01-01-1990   HQIC                         25035.109\n",
       "                         - 08-12-2017                                         \n",
       "Covariance Type:                  opg                                         \n",
       "==============================================================================\n",
       "                 coef    std err          z      P>|z|      [0.025      0.975]\n",
       "------------------------------------------------------------------------------\n",
       "ar.L1          0.6172      0.016     38.264      0.000       0.586       0.649\n",
       "ma.L1         -0.8374      0.012    -72.109      0.000      -0.860      -0.815\n",
       "sigma2         0.6999      0.008     91.675      0.000       0.685       0.715\n",
       "===================================================================================\n",
       "Ljung-Box (L1) (Q):                   0.45   Jarque-Bera (JB):              1035.55\n",
       "Prob(Q):                              0.50   Prob(JB):                         0.00\n",
       "Heteroskedasticity (H):               1.07   Skew:                            -0.40\n",
       "Prob(H) (two-sided):                  0.06   Kurtosis:                         4.35\n",
       "===================================================================================\n",
       "\n",
       "Warnings:\n",
       "[1] Covariance matrix calculated using the outer product of gradients (complex-step).\n",
       "\"\"\""
      ]
     },
     "execution_count": 76,
     "metadata": {},
     "output_type": "execute_result"
    }
   ],
   "source": [
    "\n",
    "\n",
    "model = ARIMA(train['temp'],order = (1,1,1))\n",
    "model = model.fit()\n",
    "model.summary()"
   ]
  },
  {
   "cell_type": "code",
   "execution_count": 77,
   "id": "9ae957e9-62c7-4f3a-957a-e4036edddbdf",
   "metadata": {},
   "outputs": [
    {
     "name": "stdout",
     "output_type": "stream",
     "text": [
      "2017-08-13    23.922028\n",
      "2017-08-14    24.102256\n",
      "2017-08-15    24.213485\n",
      "2017-08-16    24.282131\n",
      "2017-08-17    24.324497\n",
      "                ...    \n",
      "2024-07-03    24.392792\n",
      "2024-07-04    24.392792\n",
      "2024-07-05    24.392792\n",
      "2024-07-06    24.392792\n",
      "2024-07-07    24.392792\n",
      "Freq: D, Name: predicted_mean, Length: 2521, dtype: float64\n"
     ]
    }
   ],
   "source": [
    "start = len(train)\n",
    "end = len(train)+len(test)-1\n",
    "pred = model.predict(start = start,end = end,type = 'levels')\n",
    "print(pred)\n",
    "#pred.index =df.index[start:end+1]\n",
    "#print(pred)"
   ]
  },
  {
   "cell_type": "code",
   "execution_count": 78,
   "id": "7a718113-b2e4-4b8e-ac4d-a5b0b0a46b67",
   "metadata": {},
   "outputs": [
    {
     "data": {
      "text/plain": [
       "<Axes: xlabel='date'>"
      ]
     },
     "execution_count": 78,
     "metadata": {},
     "output_type": "execute_result"
    },
    {
     "data": {
      "image/png": "[encoded data removed]",
      "text/plain": [
       "<Figure size 640x480 with 1 Axes>"
      ]
     },
     "metadata": {},
     "output_type": "display_data"
    }
   ],
   "source": [
    "pred.plot(legend=True)\n",
    "test ['temp'].plot(legend=True)"
   ]
  },
  {
   "cell_type": "code",
   "execution_count": 66,
   "id": "4a673579-60e2-42bc-b869-227256223eef",
   "metadata": {},
   "outputs": [
    {
     "data": {
      "text/plain": [
       "24.46455573185244"
      ]
     },
     "execution_count": 66,
     "metadata": {},
     "output_type": "execute_result"
    }
   ],
   "source": [
    "test['temp'].mean()"
   ]
  },
  {
   "cell_type": "code",
   "execution_count": 67,
   "id": "606f4150-a11c-4fa0-a0ef-ea7a58876d6c",
   "metadata": {},
   "outputs": [
    {
     "name": "stdout",
     "output_type": "stream",
     "text": [
      "2.6373672319858223\n"
     ]
    }
   ],
   "source": [
    "from sklearn.metrics import mean_squared_error\n",
    "from math import sqrt\n",
    "rmse = sqrt(mean_squared_error(test,pred))\n",
    "print(rmse)"
   ]
  },
  {
   "cell_type": "code",
   "execution_count": 68,
   "id": "075dd30c-eafe-4bb4-987b-ddc8fe6feb20",
   "metadata": {},
   "outputs": [
    {
     "data": {
      "text/html": [
       "<div>\n",
       "<style scoped>\n",
       "    .dataframe tbody tr th:only-of-type {\n",
       "        vertical-align: middle;\n",
       "    }\n",
       "\n",
       "    .dataframe tbody tr th {\n",
       "        vertical-align: top;\n",
       "    }\n",
       "\n",
       "    .dataframe thead th {\n",
       "        text-align: right;\n",
       "    }\n",
       "</style>\n",
       "<table border=\"1\" class=\"dataframe\">\n",
       "  <thead>\n",
       "    <tr style=\"text-align: right;\">\n",
       "      <th></th>\n",
       "      <th>temp</th>\n",
       "    </tr>\n",
       "    <tr>\n",
       "      <th>date</th>\n",
       "      <th></th>\n",
       "    </tr>\n",
       "  </thead>\n",
       "  <tbody>\n",
       "    <tr>\n",
       "      <th>2024-07-03</th>\n",
       "      <td>24.685</td>\n",
       "    </tr>\n",
       "    <tr>\n",
       "      <th>2024-07-04</th>\n",
       "      <td>24.160</td>\n",
       "    </tr>\n",
       "    <tr>\n",
       "      <th>2024-07-05</th>\n",
       "      <td>23.725</td>\n",
       "    </tr>\n",
       "    <tr>\n",
       "      <th>2024-07-06</th>\n",
       "      <td>23.745</td>\n",
       "    </tr>\n",
       "    <tr>\n",
       "      <th>2024-07-07</th>\n",
       "      <td>22.450</td>\n",
       "    </tr>\n",
       "  </tbody>\n",
       "</table>\n",
       "</div>"
      ],
      "text/plain": [
       "              temp\n",
       "date              \n",
       "2024-07-03  24.685\n",
       "2024-07-04  24.160\n",
       "2024-07-05  23.725\n",
       "2024-07-06  23.745\n",
       "2024-07-07  22.450"
      ]
     },
     "execution_count": 68,
     "metadata": {},
     "output_type": "execute_result"
    }
   ],
   "source": [
    "model2 = ARIMA(df['temp'],order = (1,1,1))\n",
    "model2 = model2.fit()\n",
    "df.tail()"
   ]
  },
  {
   "cell_type": "code",
   "execution_count": 69,
   "id": "5275065a-d057-4993-ac33-ba87a37b8808",
   "metadata": {},
   "outputs": [
    {
     "name": "stdout",
     "output_type": "stream",
     "text": [
      "2024-07-08    22.878146\n",
      "2024-07-09    23.135723\n",
      "2024-07-10    23.290684\n",
      "2024-07-11    23.383911\n",
      "2024-07-12    23.439996\n",
      "2024-07-13    23.473738\n",
      "2024-07-14    23.494038\n",
      "2024-07-15    23.506250\n",
      "2024-07-16    23.513597\n",
      "2024-07-17    23.518017\n",
      "2024-07-18    23.520676\n",
      "2024-07-19    23.522276\n",
      "2024-07-20    23.523239\n",
      "2024-07-21    23.523818\n",
      "2024-07-22    23.524166\n",
      "2024-07-23    23.524376\n",
      "2024-07-24    23.524502\n",
      "2024-07-25    23.524578\n",
      "2024-07-26    23.524623\n",
      "2024-07-27    23.524651\n",
      "2024-07-28    23.524667\n",
      "2024-07-29    23.524677\n",
      "2024-07-30    23.524683\n",
      "2024-07-31    23.524687\n",
      "2024-08-01    23.524689\n",
      "2024-08-02    23.524690\n",
      "2024-08-03    23.524691\n",
      "2024-08-04    23.524691\n",
      "2024-08-05    23.524692\n",
      "2024-08-06    23.524692\n",
      "2024-08-07    23.524692\n",
      "Freq: D, Name: ARIMA Prediction, dtype: float64\n"
     ]
    }
   ],
   "source": [
    "index_future_dates = pd.date_range(start = '2024-07-09',end = '2024-07-09')\n",
    "pred = model2.predict(start = len(df),end = len(df)+30,type = 'levels').rename('ARIMA Prediction')\n",
    "#pred.index = index_future_dates\n",
    "print(pred)"
   ]
  },
  {
   "cell_type": "code",
   "execution_count": 70,
   "id": "0bc33767-93f5-441a-a200-de3da38acbf3",
   "metadata": {},
   "outputs": [
    {
     "data": {
      "text/plain": [
       "<Axes: >"
      ]
     },
     "execution_count": 70,
     "metadata": {},
     "output_type": "execute_result"
    },
    {
     "data": {
      "image/png": "[encoded data removed]",
      "text/plain": [
       "<Figure size 1200x500 with 1 Axes>"
      ]
     },
     "metadata": {},
     "output_type": "display_data"
    }
   ],
   "source": [
    "pred.plot(figsize=(12,5),legend=True)"
   ]
  }
 ],
 "metadata": {
  "kernelspec": {
   "display_name": "Python 3 (ipykernel)",
   "language": "python",
   "name": "python3"
  },
  "language_info": {
   "codemirror_mode": {
    "name": "ipython",
    "version": 3
   },
   "file_extension": ".py",
   "mimetype": "text/x-python",
   "name": "python",
   "nbconvert_exporter": "python",
   "pygments_lexer": "ipython3",
   "version": "3.11.7"
  }
 },
 "nbformat": 4,
 "nbformat_minor": 5
}
